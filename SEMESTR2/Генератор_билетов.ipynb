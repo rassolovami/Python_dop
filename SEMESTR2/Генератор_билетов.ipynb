{
  "nbformat": 4,
  "nbformat_minor": 0,
  "metadata": {
    "colab": {
      "provenance": []
    },
    "kernelspec": {
      "name": "python3",
      "display_name": "Python 3"
    },
    "language_info": {
      "name": "python"
    }
  },
  "cells": [
    {
      "cell_type": "code",
      "execution_count": 1,
      "metadata": {
        "id": "WQlbjX_jFLkN"
      },
      "outputs": [],
      "source": [
        "import random\n",
        "from typing import List, Dict\n",
        "import os"
      ]
    },
    {
      "cell_type": "code",
      "source": [
        "class Student:\n",
        "    def __init__(self, name: str):\n",
        "        self.name = name"
      ],
      "metadata": {
        "id": "91FOt-tVFTum"
      },
      "execution_count": 2,
      "outputs": []
    },
    {
      "cell_type": "code",
      "source": [
        "class Question:\n",
        "    def __init__(self, text: str):\n",
        "        self.text = text\n",
        "\n",
        "    def __str__(self):\n",
        "        return self.text"
      ],
      "metadata": {
        "id": "MWjfVlBGFVc8"
      },
      "execution_count": 3,
      "outputs": []
    },
    {
      "cell_type": "code",
      "source": [
        "class Topic:\n",
        "    def __init__(self, name: str):\n",
        "        self.name = name\n",
        "        self.questions = []\n",
        "\n",
        "    def add_question(self, question: Question):\n",
        "        self.questions.append(question)\n",
        "\n",
        "    def get_random_question(self):\n",
        "        if not self.questions:\n",
        "            raise ValueError(\"В теме нет доступных вопросов\")\n",
        "        question = random.choice(self.questions)\n",
        "        self.questions.remove(question)\n",
        "        return question\n",
        "\n",
        "    def refresh_questions(self, questions: List[Question]):\n",
        "        self.questions.extend(questions)"
      ],
      "metadata": {
        "id": "uzrhel1CFXh-"
      },
      "execution_count": null,
      "outputs": []
    },
    {
      "cell_type": "code",
      "source": [
        "class Ticket:\n",
        "    def __init__(self, student: Student, topics: Dict[str, Topic], question_counts: Dict[str, int]):\n",
        "        self.student = student\n",
        "        self.topics = topics\n",
        "        self.question_counts = question_counts\n",
        "        self.questions = self.generate_ticket()\n",
        "\n",
        "    def generate_ticket(self):\n",
        "        ticket_questions = {}\n",
        "        for topic_name, count in self.question_counts.items():\n",
        "            topic = self.topics.get(topic_name)\n",
        "            if not topic:\n",
        "                raise ValueError(f\"Topic {topic_name} not found\")\n",
        "            ticket_questions[topic_name] = []\n",
        "            for _ in range(count):\n",
        "                if not topic.questions:\n",
        "                    raise ValueError(f\"Not enough questions in topic {topic_name}\")\n",
        "                question = topic.get_random_question()\n",
        "                ticket_questions[topic_name].append(question)\n",
        "            topic.refresh_questions(ticket_questions[topic_name])\n",
        "        return ticket_questions\n",
        "\n",
        "    def __str__(self):\n",
        "        result = f\"{self.student.name}\\n\"\n",
        "        for topic, questions in self.questions.items():\n",
        "            result += f\"  {topic}:\\n\"\n",
        "            for i, question in enumerate(questions, start=1):\n",
        "                result += f\"    {i}. {question}\\n\"\n",
        "        return result"
      ],
      "metadata": {
        "id": "CxpnXYIVFZ5d"
      },
      "execution_count": 5,
      "outputs": []
    },
    {
      "cell_type": "code",
      "source": [
        "def read_students(file_path: str) -> List[Student]:\n",
        "    with open(file_path, 'r', encoding='utf-8') as file:\n",
        "        return [Student(line.strip()) for line in file]\n",
        "\n",
        "def read_topics_and_questions(file_path: str) -> Dict[str, Topic]:\n",
        "    topics = {}\n",
        "    current_topic = None\n",
        "    with open(file_path, 'r', encoding='utf-8') as file:\n",
        "        for line in file:\n",
        "            line = line.strip()\n",
        "            if line.startswith(\"Тема:\"):\n",
        "                current_topic = Topic(line.split(\":\")[1].strip())\n",
        "                topics[current_topic.name] = current_topic\n",
        "            elif current_topic and line:\n",
        "                current_topic.add_question(Question(line))\n",
        "    return topics"
      ],
      "metadata": {
        "id": "zmyMebobFcgB"
      },
      "execution_count": 6,
      "outputs": []
    },
    {
      "cell_type": "code",
      "source": [
        "def main():\n",
        "    students_file = input(\"Введите путь к файлу со студентами: \")\n",
        "    topics_file = input(\"Введите путь к файлу с темами и вопросами: \")\n",
        "    question_counts = {}\n",
        "\n",
        "    while True:\n",
        "        topic_name = input(\"Введите название темы (или 'стоп' для завершения): \")\n",
        "        if topic_name.lower() == 'стоп':\n",
        "            break\n",
        "        count = int(input(f\"Введите количество вопросов для темы '{topic_name}': \"))\n",
        "        question_counts[topic_name] = count\n",
        "\n",
        "    students = read_students(students_file)\n",
        "    topics = read_topics_and_questions(topics_file)\n",
        "\n",
        "    with open(\"tickets.txt\", 'w', encoding='utf-8') as file:\n",
        "        for student in students:\n",
        "            ticket = Ticket(student, topics, question_counts)\n",
        "            file.write(str(ticket) + \"\\n\")\n",
        "            file.write(\"-\" * 40 + \"\\n\")\n",
        "\n",
        "if __name__ == \"__main__\":\n",
        "    main()"
      ],
      "metadata": {
        "id": "NSI1R1k0Fe1q"
      },
      "execution_count": null,
      "outputs": []
    }
  ]
}