{
  "nbformat": 4,
  "nbformat_minor": 0,
  "metadata": {
    "colab": {
      "provenance": []
    },
    "kernelspec": {
      "name": "python3",
      "display_name": "Python 3"
    },
    "language_info": {
      "name": "python"
    }
  },
  "cells": [
    {
      "cell_type": "code",
      "execution_count": 1,
      "metadata": {
        "id": "iVPZTOOiBO4t"
      },
      "outputs": [],
      "source": [
        "class DSTNode:\n",
        "    def __init__(self, key=None):\n",
        "        self.key = key\n",
        "        self.left = None\n",
        "        self.right = None"
      ]
    },
    {
      "cell_type": "code",
      "source": [
        "class DigitalSearchTree:\n",
        "    def __init__(self):\n",
        "        self.root = None\n",
        "\n",
        "    def _bit(self, key, bit_index):\n",
        "        \"\"\"Возвращает бит ключа на позиции bit_index (0 или 1).\"\"\"\n",
        "        if bit_index < len(key):\n",
        "            return int(key[bit_index])\n",
        "        return 0\n",
        "\n",
        "    def insert(self, key):\n",
        "        \"\"\"Вставляет ключ в дерево.\"\"\"\n",
        "        if self.root is None:\n",
        "            self.root = DSTNode(key)\n",
        "        else:\n",
        "            self._insert(self.root, key, 0)\n",
        "\n",
        "    def _insert(self, node, key, bit_index):\n",
        "        bit = self._bit(key, bit_index)\n",
        "        if bit == 0:\n",
        "            if node.left is None:\n",
        "                node.left = DSTNode(key)\n",
        "            else:\n",
        "                self._insert(node.left, key, bit_index + 1)\n",
        "        else:\n",
        "            if node.right is None:\n",
        "                node.right = DSTNode(key)\n",
        "            else:\n",
        "                self._insert(node.right, key, bit_index + 1)\n",
        "\n",
        "    def search(self, key):\n",
        "        \"\"\"Ищет ключ в дереве и возвращает True, если ключ найден, иначе False.\"\"\"\n",
        "        return self._search(self.root, key, 0)\n",
        "\n",
        "    def _search(self, node, key, bit_index):\n",
        "        if node is None:\n",
        "            return False\n",
        "        if node.key == key:\n",
        "            return True\n",
        "        bit = self._bit(key, bit_index)\n",
        "        if bit == 0:\n",
        "            return self._search(node.left, key, bit_index + 1)\n",
        "        else:\n",
        "            return self._search(node.right, key, bit_index + 1)\n",
        "\n",
        "    def delete(self, key):\n",
        "        \"\"\"Удаляет ключ из дерева.\"\"\"\n",
        "        self.root = self._delete(self.root, key, 0)\n",
        "\n",
        "    def _delete(self, node, key, bit_index):\n",
        "        if node is None:\n",
        "            return None\n",
        "        if node.key == key:\n",
        "            # Узел найден и должен быть удален\n",
        "            if node.left is None:\n",
        "                return node.right\n",
        "            if node.right is None:\n",
        "                return node.left\n",
        "            # Найти минимальный ключ в правом поддереве\n",
        "            min_larger_node = self._find_min(node.right)\n",
        "            node.key = min_larger_node.key\n",
        "            node.right = self._delete(node.right, min_larger_node.key, bit_index + 1)\n",
        "            return node\n",
        "        bit = self._bit(key, bit_index)\n",
        "        if bit == 0:\n",
        "            node.left = self._delete(node.left, key, bit_index + 1)\n",
        "        else:\n",
        "            node.right = self._delete(node.right, key, bit_index + 1)\n",
        "        return node\n",
        "\n",
        "    def _find_min(self, node):\n",
        "        \"\"\"Находит узел с минимальным ключом в поддереве.\"\"\"\n",
        "        current = node\n",
        "        while current.left is not None:\n",
        "            current = current.left\n",
        "        return current\n",
        "\n",
        "    def inorder_traversal(self):\n",
        "        \"\"\"Обходит дерево в порядке возрастания и возвращает список ключей.\"\"\"\n",
        "        keys = []\n",
        "        self._inorder_traversal(self.root, keys)\n",
        "        return keys\n",
        "\n",
        "    def _inorder_traversal(self, node, keys):\n",
        "        if node is not None:\n",
        "            self._inorder_traversal(node.left, keys)\n",
        "            keys.append(node.key)\n",
        "            self._inorder_traversal(node.right, keys)"
      ],
      "metadata": {
        "id": "9iX2oxOdBf-B"
      },
      "execution_count": 2,
      "outputs": []
    },
    {
      "cell_type": "code",
      "source": [
        "# Пример использования цифрового дерева поиска\n",
        "if __name__ == \"__main__\":\n",
        "    dst = DigitalSearchTree()\n",
        "    keys = [\"101\", \"010\", \"001\", \"111\", \"100\", \"011\"]\n",
        "\n",
        "    for key in keys:\n",
        "        dst.insert(key)\n",
        "\n",
        "    print(\"Траверс цифрового дерева поиска:\")\n",
        "    print(dst.inorder_traversal())  # ['001', '010', '011', '100', '101', '111']\n",
        "\n",
        "    search_key = \"011\"\n",
        "    print(f\"Ключ {search_key} найден: {dst.search(search_key)}\")  # True\n",
        "\n",
        "    delete_key = \"010\"\n",
        "    dst.delete(delete_key)\n",
        "    print(f\"Ключ {delete_key} удален.\")\n",
        "    print(dst.inorder_traversal())  # ['001', '011', '100', '101', '111']"
      ],
      "metadata": {
        "id": "9nojPxODBiYK",
        "outputId": "8292862f-fd23-4372-dd08-152f67020a7b",
        "colab": {
          "base_uri": "https://localhost:8080/"
        }
      },
      "execution_count": 3,
      "outputs": [
        {
          "output_type": "stream",
          "name": "stdout",
          "text": [
            "Траверс цифрового дерева поиска:\n",
            "['001', '010', '011', '101', '100', '111']\n",
            "Ключ 011 найден: True\n",
            "Ключ 010 удален.\n",
            "['001', '011', '101', '100', '111']\n"
          ]
        }
      ]
    }
  ]
}