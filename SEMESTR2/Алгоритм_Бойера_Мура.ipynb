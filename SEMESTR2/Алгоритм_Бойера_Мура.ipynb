{
  "nbformat": 4,
  "nbformat_minor": 0,
  "metadata": {
    "colab": {
      "provenance": []
    },
    "kernelspec": {
      "name": "python3",
      "display_name": "Python 3"
    },
    "language_info": {
      "name": "python"
    }
  },
  "cells": [
    {
      "cell_type": "code",
      "execution_count": 1,
      "metadata": {
        "id": "dwv8bCsEEHHR"
      },
      "outputs": [],
      "source": [
        "def bad_character_table(pattern):\n",
        "    \"\"\"\n",
        "    Создает таблицу плохих символов для алгоритма Бойера-Мура.\n",
        "    \"\"\"\n",
        "    table = {}\n",
        "    length = len(pattern)\n",
        "    for i in range(length):\n",
        "        table[pattern[i]] = i\n",
        "    return table"
      ]
    },
    {
      "cell_type": "code",
      "source": [
        "def good_suffix_table(pattern):\n",
        "    \"\"\"\n",
        "    Создает таблицу хороших суффиксов для алгоритма Бойера-Мура.\n",
        "    \"\"\"\n",
        "    length = len(pattern)\n",
        "    table = [0] * (length + 1)\n",
        "    border = [0] * (length + 1)\n",
        "\n",
        "    # Сначала вычисляем значения для таблицы border\n",
        "    i = length\n",
        "    j = length + 1\n",
        "    border[i] = j\n",
        "\n",
        "    while i > 0:\n",
        "        while j <= length and pattern[i - 1] != pattern[j - 1]:\n",
        "            if table[j] == 0:\n",
        "                table[j] = j - i\n",
        "            j = border[j]\n",
        "        i -= 1\n",
        "        j -= 1\n",
        "        border[i] = j\n",
        "\n",
        "    # Заполняем оставшиеся значения таблицы table\n",
        "    j = border[0]\n",
        "    for i in range(length + 1):\n",
        "        if table[i] == 0:\n",
        "            table[i] = j\n",
        "        if i == j:\n",
        "            j = border[j]\n",
        "\n",
        "    return table"
      ],
      "metadata": {
        "id": "RqnPnSWmEWxt"
      },
      "execution_count": 2,
      "outputs": []
    },
    {
      "cell_type": "code",
      "source": [
        "def boyer_moore(text, pattern):\n",
        "    \"\"\"\n",
        "    Алгоритм Бойера-Мура для поиска подстроки в строке.\n",
        "    \"\"\"\n",
        "    bad_char = bad_character_table(pattern)\n",
        "    good_suffix = good_suffix_table(pattern)\n",
        "    m = len(pattern)\n",
        "    n = len(text)\n",
        "\n",
        "    occurrences = []\n",
        "    s = 0  # s - смещение шаблона относительно текста\n",
        "\n",
        "    while s <= n - m:\n",
        "        j = m - 1\n",
        "\n",
        "        while j >= 0 and pattern[j] == text[s + j]:\n",
        "            j -= 1\n",
        "\n",
        "        if j < 0:\n",
        "            occurrences.append(s)\n",
        "            s += good_suffix[0]\n",
        "        else:\n",
        "            bad_char_shift = bad_char.get(text[s + j], -1)\n",
        "            s += max(good_suffix[j + 1], j - bad_char_shift)\n",
        "\n",
        "    return occurrences"
      ],
      "metadata": {
        "id": "1xeic74ZEZJg"
      },
      "execution_count": 3,
      "outputs": []
    },
    {
      "cell_type": "code",
      "source": [
        "# Пример использования алгоритма Бойера-Мура\n",
        "if __name__ == \"__main__\":\n",
        "    text = \"ABABDABACDABABCABAB\"\n",
        "    pattern = \"ABABCABAB\"\n",
        "\n",
        "    result = boyer_moore(text, pattern)\n",
        "    print(\"Паттерн найден в позициях:\", result)"
      ],
      "metadata": {
        "colab": {
          "base_uri": "https://localhost:8080/"
        },
        "id": "qnjsPmW9Ea4B",
        "outputId": "e9439766-be4d-4070-bf0f-7bb9c6169c42"
      },
      "execution_count": 4,
      "outputs": [
        {
          "output_type": "stream",
          "name": "stdout",
          "text": [
            "Паттерн найден в позициях: [10]\n"
          ]
        }
      ]
    }
  ]
}