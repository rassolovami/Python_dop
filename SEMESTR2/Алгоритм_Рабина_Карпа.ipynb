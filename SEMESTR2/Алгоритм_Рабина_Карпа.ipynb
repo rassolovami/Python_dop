{
  "nbformat": 4,
  "nbformat_minor": 0,
  "metadata": {
    "colab": {
      "provenance": []
    },
    "kernelspec": {
      "name": "python3",
      "display_name": "Python 3"
    },
    "language_info": {
      "name": "python"
    }
  },
  "cells": [
    {
      "cell_type": "code",
      "execution_count": 1,
      "metadata": {
        "id": "4gTBONkiDwFa"
      },
      "outputs": [],
      "source": [
        "class RabinKarp:\n",
        "    def __init__(self, pattern, text, prime=101):\n",
        "        self.pattern = pattern\n",
        "        self.text = text\n",
        "        self.prime = prime\n",
        "        self.pattern_length = len(pattern)\n",
        "        self.text_length = len(text)\n",
        "        self.base = 256  # Количество символов в алфавите\n",
        "\n",
        "    def search(self):\n",
        "        pattern_hash = self.hash(self.pattern, self.pattern_length)\n",
        "        current_hash = self.hash(self.text, self.pattern_length)\n",
        "        occurrences = []\n",
        "\n",
        "        for i in range(self.text_length - self.pattern_length + 1):\n",
        "            if pattern_hash == current_hash:\n",
        "                if self.text[i:i + self.pattern_length] == self.pattern:\n",
        "                    occurrences.append(i)\n",
        "\n",
        "            if i < self.text_length - self.pattern_length:\n",
        "                current_hash = self.rehash(self.text, i, current_hash)\n",
        "\n",
        "        return occurrences\n",
        "\n",
        "    def hash(self, s, length):\n",
        "        h = 0\n",
        "        for i in range(length):\n",
        "            h = (h * self.base + ord(s[i])) % self.prime\n",
        "        return h\n",
        "\n",
        "    def rehash(self, s, old_index, old_hash):\n",
        "        new_hash = (old_hash - ord(s[old_index]) * (self.base ** (self.pattern_length - 1)) % self.prime) * self.base + ord(s[old_index + self.pattern_length])\n",
        "        new_hash = new_hash % self.prime\n",
        "        if new_hash < 0:\n",
        "            new_hash += self.prime\n",
        "        return new_hash"
      ]
    },
    {
      "cell_type": "code",
      "source": [
        "# Пример использования алгоритма Рабина-Карпа\n",
        "if __name__ == \"__main__\":\n",
        "    text = \"ABABDABACDABABCABAB\"\n",
        "    pattern = \"ABABCABAB\"\n",
        "\n",
        "    rk = RabinKarp(pattern, text)\n",
        "    result = rk.search()\n",
        "    print(\"Паттерн найден в позициях:\", result)"
      ],
      "metadata": {
        "id": "RwNjwLlFD8-S",
        "outputId": "0132140f-5b36-43cf-843f-1d76231963b9",
        "colab": {
          "base_uri": "https://localhost:8080/"
        }
      },
      "execution_count": 2,
      "outputs": [
        {
          "output_type": "stream",
          "name": "stdout",
          "text": [
            "Паттерн найден в позициях: [10]\n"
          ]
        }
      ]
    }
  ]
}