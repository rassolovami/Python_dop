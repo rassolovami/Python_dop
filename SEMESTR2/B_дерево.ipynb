{
  "nbformat": 4,
  "nbformat_minor": 0,
  "metadata": {
    "colab": {
      "provenance": []
    },
    "kernelspec": {
      "name": "python3",
      "display_name": "Python 3"
    },
    "language_info": {
      "name": "python"
    }
  },
  "cells": [
    {
      "cell_type": "code",
      "execution_count": 1,
      "metadata": {
        "id": "TAp82k5eArDC"
      },
      "outputs": [],
      "source": [
        "class BTreeNode:\n",
        "    def __init__(self, t, leaf=False):\n",
        "        self.t = t  # Минимальная степень (параметр B-дерева)\n",
        "        self.leaf = leaf  # Является ли узел листом\n",
        "        self.keys = []  # Список ключей\n",
        "        self.children = []  # Список дочерних узлов\n",
        "\n",
        "    def insert_non_full(self, key):\n",
        "        i = len(self.keys) - 1\n",
        "        if self.leaf:\n",
        "            self.keys.append(None)\n",
        "            while i >= 0 and key < self.keys[i]:\n",
        "                self.keys[i + 1] = self.keys[i]\n",
        "                i -= 1\n",
        "            self.keys[i + 1] = key\n",
        "        else:\n",
        "            while i >= 0 and key < self.keys[i]:\n",
        "                i -= 1\n",
        "            i += 1\n",
        "            if len(self.children[i].keys) == 2 * self.t - 1:\n",
        "                self.split_child(i)\n",
        "                if key > self.keys[i]:\n",
        "                    i += 1\n",
        "            self.children[i].insert_non_full(key)\n",
        "\n",
        "    def split_child(self, i):\n",
        "        t = self.t\n",
        "        y = self.children[i]\n",
        "        z = BTreeNode(t, y.leaf)\n",
        "        self.children.insert(i + 1, z)\n",
        "        self.keys.insert(i, y.keys[t - 1])\n",
        "        z.keys = y.keys[t:(2 * t - 1)]\n",
        "        y.keys = y.keys[0:(t - 1)]\n",
        "        if not y.leaf:\n",
        "            z.children = y.children[t:(2 * t)]\n",
        "            y.children = y.children[0:t]\n",
        "\n",
        "    def traverse(self):\n",
        "        for i in range(len(self.keys)):\n",
        "            if not self.leaf:\n",
        "                self.children[i].traverse()\n",
        "            print(self.keys[i], end=\" \")\n",
        "        if not self.leaf:\n",
        "            self.children[-1].traverse()\n",
        "\n",
        "    def search(self, key):\n",
        "        i = 0\n",
        "        while i < len(self.keys) and key > self.keys[i]:\n",
        "            i += 1\n",
        "        if i < len(self.keys) and key == self.keys[i]:\n",
        "            return self\n",
        "        if self.leaf:\n",
        "            return None\n",
        "        return self.children[i].search(key)"
      ]
    },
    {
      "cell_type": "code",
      "source": [
        "class BTree:\n",
        "    def __init__(self, t):\n",
        "        self.root = BTreeNode(t, True)\n",
        "        self.t = t\n",
        "\n",
        "    def insert(self, key):\n",
        "        root = self.root\n",
        "        if len(root.keys) == 2 * self.t - 1:\n",
        "            temp = BTreeNode(self.t, False)\n",
        "            self.root = temp\n",
        "            temp.children.insert(0, root)\n",
        "            temp.split_child(0)\n",
        "            temp.insert_non_full(key)\n",
        "        else:\n",
        "            root.insert_non_full(key)\n",
        "\n",
        "    def traverse(self):\n",
        "        if self.root is not None:\n",
        "            self.root.traverse()\n",
        "\n",
        "    def search(self, key):\n",
        "        if self.root is None:\n",
        "            return None\n",
        "        else:\n",
        "            return self.root.search(key)"
      ],
      "metadata": {
        "id": "k_VFwLcWA1LR"
      },
      "execution_count": 2,
      "outputs": []
    },
    {
      "cell_type": "code",
      "source": [
        "# Пример использования B-дерева\n",
        "if __name__ == \"__main__\":\n",
        "    btree = BTree(3)\n",
        "\n",
        "    elements = [10, 20, 5, 6, 12, 30, 7, 17]\n",
        "    for elem in elements:\n",
        "        btree.insert(elem)\n",
        "\n",
        "    print(\"Траверс B-дерева:\")\n",
        "    btree.traverse()\n",
        "    print()\n",
        "\n",
        "    key = 6\n",
        "    result = btree.search(key)\n",
        "    if result is not None:\n",
        "        print(f\"Ключ {key} найден в B-дереве.\")\n",
        "    else:\n",
        "        print(f\"Ключ {key} не найден в B-дереве.\")"
      ],
      "metadata": {
        "id": "JZFCYvuMA3ln",
        "outputId": "72663e4b-541b-409f-9d45-5951e9bdecd4",
        "colab": {
          "base_uri": "https://localhost:8080/"
        }
      },
      "execution_count": 3,
      "outputs": [
        {
          "output_type": "stream",
          "name": "stdout",
          "text": [
            "Траверс B-дерева:\n",
            "5 6 7 10 12 17 20 30 \n",
            "Ключ 6 найден в B-дереве.\n"
          ]
        }
      ]
    }
  ]
}