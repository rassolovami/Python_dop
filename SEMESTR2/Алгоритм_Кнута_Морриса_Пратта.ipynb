{
  "nbformat": 4,
  "nbformat_minor": 0,
  "metadata": {
    "colab": {
      "provenance": []
    },
    "kernelspec": {
      "name": "python3",
      "display_name": "Python 3"
    },
    "language_info": {
      "name": "python"
    }
  },
  "cells": [
    {
      "cell_type": "code",
      "execution_count": 1,
      "metadata": {
        "id": "BrBqsYmsEouC"
      },
      "outputs": [],
      "source": [
        "def compute_lps(pattern):\n",
        "    \"\"\"\n",
        "    Вычисляет префиксную функцию (LPS - longest prefix suffix) для алгоритма КМП.\n",
        "    \"\"\"\n",
        "    lps = [0] * len(pattern)\n",
        "    length = 0  # длина предыдущего наибольшего префикса, который также является суффиксом\n",
        "    i = 1\n",
        "\n",
        "    while i < len(pattern):\n",
        "        if pattern[i] == pattern[length]:\n",
        "            length += 1\n",
        "            lps[i] = length\n",
        "            i += 1\n",
        "        else:\n",
        "            if length != 0:\n",
        "                length = lps[length - 1]\n",
        "            else:\n",
        "                lps[i] = 0\n",
        "                i += 1\n",
        "    return lps"
      ]
    },
    {
      "cell_type": "code",
      "source": [
        "def kmp_search(text, pattern):\n",
        "    \"\"\"\n",
        "    Выполняет поиск подстроки в строке с использованием алгоритма Кнута-Морриса-Пратта.\n",
        "    \"\"\"\n",
        "    n = len(text)\n",
        "    m = len(pattern)\n",
        "    lps = compute_lps(pattern)\n",
        "    occurrences = []\n",
        "\n",
        "    i = 0  # индекс для text\n",
        "    j = 0  # индекс для pattern\n",
        "\n",
        "    while i < n:\n",
        "        if pattern[j] == text[i]:\n",
        "            i += 1\n",
        "            j += 1\n",
        "\n",
        "        if j == m:\n",
        "            occurrences.append(i - j)\n",
        "            j = lps[j - 1]\n",
        "        elif i < n and pattern[j] != text[i]:\n",
        "            if j != 0:\n",
        "                j = lps[j - 1]\n",
        "            else:\n",
        "                i += 1\n",
        "\n",
        "    return occurrences"
      ],
      "metadata": {
        "id": "LeYkSgIuEzoX"
      },
      "execution_count": 2,
      "outputs": []
    },
    {
      "cell_type": "code",
      "source": [
        "# Пример использования алгоритма Кнута-Морриса-Пратта\n",
        "if __name__ == \"__main__\":\n",
        "    text = \"ABABDABACDABABCABAB\"\n",
        "    pattern = \"ABABCABAB\"\n",
        "\n",
        "    result = kmp_search(text, pattern)\n",
        "    print(\"Паттерн найден в позициях:\", result)"
      ],
      "metadata": {
        "id": "wOOUCMXiE1br",
        "outputId": "fb04654d-324f-493c-def1-89d667126e20",
        "colab": {
          "base_uri": "https://localhost:8080/"
        }
      },
      "execution_count": 3,
      "outputs": [
        {
          "output_type": "stream",
          "name": "stdout",
          "text": [
            "Паттерн найден в позициях: [10]\n"
          ]
        }
      ]
    }
  ]
}