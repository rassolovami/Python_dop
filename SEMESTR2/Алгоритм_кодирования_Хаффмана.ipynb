{
  "nbformat": 4,
  "nbformat_minor": 0,
  "metadata": {
    "colab": {
      "provenance": []
    },
    "kernelspec": {
      "name": "python3",
      "display_name": "Python 3"
    },
    "language_info": {
      "name": "python"
    }
  },
  "cells": [
    {
      "cell_type": "code",
      "execution_count": 1,
      "metadata": {
        "id": "uYnRB9qkBxWb"
      },
      "outputs": [],
      "source": [
        "import heapq\n",
        "from collections import defaultdict, Counter"
      ]
    },
    {
      "cell_type": "code",
      "source": [
        "class HuffmanNode:\n",
        "    def __init__(self, char=None, freq=0):\n",
        "        self.char = char\n",
        "        self.freq = freq\n",
        "        self.left = None\n",
        "        self.right = None\n",
        "\n",
        "    def __lt__(self, other):\n",
        "        return self.freq < other.freq"
      ],
      "metadata": {
        "id": "nyOABYJ1B7bJ"
      },
      "execution_count": 2,
      "outputs": []
    },
    {
      "cell_type": "code",
      "source": [
        "def build_huffman_tree(frequencies):\n",
        "    heap = [HuffmanNode(char, freq) for char, freq in frequencies.items()]\n",
        "    heapq.heapify(heap)\n",
        "\n",
        "    while len(heap) > 1:\n",
        "        left = heapq.heappop(heap)\n",
        "        right = heapq.heappop(heap)\n",
        "        merged = HuffmanNode(freq=left.freq + right.freq)\n",
        "        merged.left = left\n",
        "        merged.right = right\n",
        "        heapq.heappush(heap, merged)\n",
        "\n",
        "    return heap[0]\n",
        "\n",
        "def generate_huffman_codes(root):\n",
        "    codes = {}\n",
        "    def _generate_huffman_codes(node, current_code):\n",
        "        if node is not None:\n",
        "            if node.char is not None:\n",
        "                codes[node.char] = current_code\n",
        "            _generate_huffman_codes(node.left, current_code + \"0\")\n",
        "            _generate_huffman_codes(node.right, current_code + \"1\")\n",
        "\n",
        "    _generate_huffman_codes(root, \"\")\n",
        "    return codes\n",
        "\n",
        "def huffman_encode(data):\n",
        "    frequencies = Counter(data)\n",
        "    root = build_huffman_tree(frequencies)\n",
        "    codes = generate_huffman_codes(root)\n",
        "    encoded_data = \"\".join(codes[char] for char in data)\n",
        "    return encoded_data, codes\n",
        "\n",
        "def huffman_decode(encoded_data, codes):\n",
        "    reverse_codes = {v: k for k, v in codes.items()}\n",
        "    current_code = \"\"\n",
        "    decoded_data = []\n",
        "\n",
        "    for bit in encoded_data:\n",
        "        current_code += bit\n",
        "        if current_code in reverse_codes:\n",
        "            decoded_data.append(reverse_codes[current_code])\n",
        "            current_code = \"\"\n",
        "\n",
        "    return \"\".join(decoded_data)"
      ],
      "metadata": {
        "id": "wyh4yPZ4B-s7"
      },
      "execution_count": 3,
      "outputs": []
    },
    {
      "cell_type": "code",
      "source": [
        "# Пример использования алгоритма Хаффмана\n",
        "if __name__ == \"__main__\":\n",
        "    data = \"this is an example for huffman encoding\"\n",
        "\n",
        "    print(\"Оригинальные данные:\", data)\n",
        "\n",
        "    encoded_data, codes = huffman_encode(data)\n",
        "    print(\"Закодированные данные:\", encoded_data)\n",
        "    print(\"Коды символов:\", codes)\n",
        "\n",
        "    decoded_data = huffman_decode(encoded_data, codes)\n",
        "    print(\"Декодированные данные:\", decoded_data)"
      ],
      "metadata": {
        "id": "zyTe61YSCCMf",
        "outputId": "5dd86f1c-faa0-4490-df62-e3860f3f7610",
        "colab": {
          "base_uri": "https://localhost:8080/"
        }
      },
      "execution_count": 4,
      "outputs": [
        {
          "output_type": "stream",
          "name": "stdout",
          "text": [
            "Оригинальные данные: this is an example for huffman encoding\n",
            "Закодированные данные: 0101001001001001010110010010101111100010111100111011110011100000110111101011101110010110010101001100011011101001111110001011110000011111100101011100100010001\n",
            "Коды символов: {'n': '000', 's': '0010', 'm': '0011', 'h': '0100', 't': '01010', 'd': '01011', 'r': '01100', 'l': '01101', 'x': '01110', 'c': '01111', 'p': '10000', 'g': '10001', 'i': '1001', ' ': '101', 'u': '11000', 'o': '11001', 'f': '1101', 'e': '1110', 'a': '1111'}\n",
            "Декодированные данные: this is an example for huffman encoding\n"
          ]
        }
      ]
    }
  ]
}