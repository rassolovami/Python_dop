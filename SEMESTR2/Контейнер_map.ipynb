{
  "nbformat": 4,
  "nbformat_minor": 0,
  "metadata": {
    "colab": {
      "provenance": []
    },
    "kernelspec": {
      "name": "python3",
      "display_name": "Python 3"
    },
    "language_info": {
      "name": "python"
    }
  },
  "cells": [
    {
      "cell_type": "markdown",
      "source": [
        "Реализация метода цепочек"
      ],
      "metadata": {
        "id": "euA-Q-VHCVmQ"
      }
    },
    {
      "cell_type": "code",
      "source": [
        "class ChainHashMap:\n",
        "    def __init__(self, capacity=10):\n",
        "        self.capacity = capacity\n",
        "        self.size = 0\n",
        "        self.buckets = [[] for _ in range(capacity)]\n",
        "\n",
        "    def _hash(self, key):\n",
        "        return hash(key) % self.capacity\n",
        "\n",
        "    def put(self, key, value):\n",
        "        bucket_index = self._hash(key)\n",
        "        bucket = self.buckets[bucket_index]\n",
        "\n",
        "        for i, (k, v) in enumerate(bucket):\n",
        "            if k == key:\n",
        "                bucket[i] = (key, value)\n",
        "                return\n",
        "\n",
        "        bucket.append((key, value))\n",
        "        self.size += 1\n",
        "\n",
        "    def get(self, key):\n",
        "        bucket_index = self._hash(key)\n",
        "        bucket = self.buckets[bucket_index]\n",
        "\n",
        "        for k, v in bucket:\n",
        "            if k == key:\n",
        "                return v\n",
        "\n",
        "        return None\n",
        "\n",
        "    def remove(self, key):\n",
        "        bucket_index = self._hash(key)\n",
        "        bucket = self.buckets[bucket_index]\n",
        "\n",
        "        for i, (k, v) in enumerate(bucket):\n",
        "            if k == key:\n",
        "                del bucket[i]\n",
        "                self.size -= 1\n",
        "                return\n",
        "\n",
        "    def contains_key(self, key):\n",
        "        bucket_index = self._hash(key)\n",
        "        bucket = self.buckets[bucket_index]\n",
        "\n",
        "        for k, v in bucket:\n",
        "            if k == key:\n",
        "                return True\n",
        "\n",
        "        return False"
      ],
      "metadata": {
        "id": "UYU8L-JNCV89"
      },
      "execution_count": 1,
      "outputs": []
    },
    {
      "cell_type": "markdown",
      "source": [
        "Реализация метода открытой адресации"
      ],
      "metadata": {
        "id": "Bh1s7kLICgWf"
      }
    },
    {
      "cell_type": "code",
      "source": [
        "class OpenAddressingHashMap:\n",
        "    def __init__(self, capacity=10):\n",
        "        self.capacity = capacity\n",
        "        self.size = 0\n",
        "        self.keys = [None] * capacity\n",
        "        self.values = [None] * capacity\n",
        "\n",
        "    def _hash(self, key):\n",
        "        return hash(key) % self.capacity\n",
        "\n",
        "    def _probe(self, hash_value):\n",
        "        return (hash_value + 1) % self.capacity\n",
        "\n",
        "    def put(self, key, value):\n",
        "        index = self._hash(key)\n",
        "\n",
        "        while self.keys[index] is not None:\n",
        "            if self.keys[index] == key:\n",
        "                self.values[index] = value\n",
        "                return\n",
        "            index = self._probe(index)\n",
        "\n",
        "        self.keys[index] = key\n",
        "        self.values[index] = value\n",
        "        self.size += 1\n",
        "\n",
        "    def get(self, key):\n",
        "        index = self._hash(key)\n",
        "\n",
        "        while self.keys[index] is not None:\n",
        "            if self.keys[index] == key:\n",
        "                return self.values[index]\n",
        "            index = self._probe(index)\n",
        "\n",
        "        return None\n",
        "\n",
        "    def remove(self, key):\n",
        "        index = self._hash(key)\n",
        "\n",
        "        while self.keys[index] is not None:\n",
        "            if self.keys[index] == key:\n",
        "                self.keys[index] = None\n",
        "                self.values[index] = None\n",
        "                self.size -= 1\n",
        "                return\n",
        "            index = self._probe(index)\n",
        "\n",
        "    def contains_key(self, key):\n",
        "        index = self._hash(key)\n",
        "\n",
        "        while self.keys[index] is not None:\n",
        "            if self.keys[index] == key:\n",
        "                return True\n",
        "            index = self._probe(index)\n",
        "\n",
        "        return False"
      ],
      "metadata": {
        "id": "6nSPrRYeCg3V"
      },
      "execution_count": 2,
      "outputs": []
    },
    {
      "cell_type": "markdown",
      "source": [
        "Общий класс для использования разных стратегий"
      ],
      "metadata": {
        "id": "NgvP-S0tCmbY"
      }
    },
    {
      "cell_type": "code",
      "source": [
        "class CustomMap:\n",
        "    def __init__(self, method='chain', capacity=10):\n",
        "        if method == 'chain':\n",
        "            self.map = ChainHashMap(capacity)\n",
        "        elif method == 'open_addressing':\n",
        "            self.map = OpenAddressingHashMap(capacity)\n",
        "        else:\n",
        "            raise ValueError(\"Метод должен быть 'chain' или 'open_addressing'\")\n",
        "\n",
        "    def put(self, key, value):\n",
        "        self.map.put(key, value)\n",
        "\n",
        "    def get(self, key):\n",
        "        return self.map.get(key)\n",
        "\n",
        "    def remove(self, key):\n",
        "        self.map.remove(key)\n",
        "\n",
        "    def contains_key(self, key):\n",
        "        return self.map.contains_key(key)"
      ],
      "metadata": {
        "id": "o08TV_LvCm0U"
      },
      "execution_count": 3,
      "outputs": []
    },
    {
      "cell_type": "markdown",
      "source": [
        "Пример"
      ],
      "metadata": {
        "id": "uLd-kuVNCwfZ"
      }
    },
    {
      "cell_type": "code",
      "source": [
        "if __name__ == \"__main__\":\n",
        "    # Метод цепочек\n",
        "    map_chain = CustomMap(method='chain')\n",
        "    map_chain.put(\"apple\", 1)\n",
        "    map_chain.put(\"banana\", 2)\n",
        "    print(map_chain.get(\"apple\"))  # 1\n",
        "    print(map_chain.contains_key(\"banana\"))  # True\n",
        "    map_chain.remove(\"apple\")\n",
        "    print(map_chain.get(\"apple\"))  # None\n",
        "\n",
        "    # Метод открытой адресации\n",
        "    map_open = CustomMap(method='open_addressing')\n",
        "    map_open.put(\"apple\", 1)\n",
        "    map_open.put(\"banana\", 2)\n",
        "    print(map_open.get(\"apple\"))  # 1\n",
        "    print(map_open.contains_key(\"banana\"))  # True\n",
        "    map_open.remove(\"apple\")\n",
        "    print(map_open.get(\"apple\"))  # None"
      ],
      "metadata": {
        "id": "b0bKsNVvCxM4",
        "outputId": "f5f58254-c510-404d-fb05-d1057d199bf9",
        "colab": {
          "base_uri": "https://localhost:8080/"
        }
      },
      "execution_count": 4,
      "outputs": [
        {
          "output_type": "stream",
          "name": "stdout",
          "text": [
            "1\n",
            "True\n",
            "None\n",
            "1\n",
            "True\n",
            "None\n"
          ]
        }
      ]
    }
  ]
}